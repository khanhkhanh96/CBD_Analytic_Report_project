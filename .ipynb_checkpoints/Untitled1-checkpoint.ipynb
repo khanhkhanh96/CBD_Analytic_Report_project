{
 "cells": [
  {
   "cell_type": "code",
   "execution_count": 3,
   "metadata": {
    "collapsed": true
   },
   "outputs": [],
   "source": [
    "import pandas as pd\n",
    "import numpy as np\n",
    "import matplotlib.pyplot as plt\n",
    "from string import ascii_letters\n",
    "import seaborn as sns\n",
    "import operator\n",
    "import ast\n",
    "import json\n",
    "\n",
    "np.random.seed(104)\n",
    "cities = ['New York', 'Boston', 'San Francisco', 'Seattle', 'Los Angeles', 'Chicago']\n",
    "car_sales = pd.DataFrame({\n",
    " 'sales':np.random.randint(1e3,1e4,len(cities)),\n",
    " 'goal':np.random.randint(4e3,8e3,len(cities)),\n",
    " 'sales_last_year':np.random.randint(1e3,1e4,len(cities)),\n",
    "}, index=cities)\n",
    "car_sales.head()\n",
    "ax = car_sales.sales.plot(kind='bar')"
   ]
  }
 ],
 "metadata": {
  "kernelspec": {
   "display_name": "Python 3",
   "language": "python",
   "name": "python3"
  },
  "language_info": {
   "codemirror_mode": {
    "name": "ipython",
    "version": 3
   },
   "file_extension": ".py",
   "mimetype": "text/x-python",
   "name": "python",
   "nbconvert_exporter": "python",
   "pygments_lexer": "ipython3",
   "version": "3.6.3"
  }
 },
 "nbformat": 4,
 "nbformat_minor": 2
}
